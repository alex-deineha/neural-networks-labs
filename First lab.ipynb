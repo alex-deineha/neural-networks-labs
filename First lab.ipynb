{
 "cells": [
  {
   "cell_type": "code",
   "execution_count": 3,
   "metadata": {},
   "outputs": [
    {
     "name": "stderr",
     "output_type": "stream",
     "text": [
      "Using TensorFlow backend.\n"
     ]
    }
   ],
   "source": [
    "import numpy as np\n",
    "import keras"
   ]
  },
  {
   "cell_type": "code",
   "execution_count": 63,
   "metadata": {},
   "outputs": [],
   "source": [
    "n = 10\n",
    "D = [[],[]]\n",
    "T = []\n",
    "for i in np.arange(10)*0.1:\n",
    "    for j in np.arange(10)*0.1:\n",
    "        D[0].append(i)\n",
    "        D[1].append(j)\n",
    "        T.append(i*j+i*i-j*j)\n",
    "        \n",
    "D = np.array(D).T\n",
    "T = np.array(T)"
   ]
  },
  {
   "cell_type": "code",
   "execution_count": 99,
   "metadata": {},
   "outputs": [],
   "source": [
    "??Adam"
   ]
  },
  {
   "cell_type": "code",
   "execution_count": 165,
   "metadata": {},
   "outputs": [
    {
     "name": "stdout",
     "output_type": "stream",
     "text": [
      "_________________________________________________________________\n",
      "Layer (type)                 Output Shape              Param #   \n",
      "=================================================================\n",
      "dense_105 (Dense)            (None, 5)                 15        \n",
      "_________________________________________________________________\n",
      "activation_105 (Activation)  (None, 5)                 0         \n",
      "_________________________________________________________________\n",
      "dense_106 (Dense)            (None, 1)                 6         \n",
      "_________________________________________________________________\n",
      "activation_106 (Activation)  (None, 1)                 0         \n",
      "=================================================================\n",
      "Total params: 21\n",
      "Trainable params: 21\n",
      "Non-trainable params: 0\n",
      "_________________________________________________________________\n"
     ]
    }
   ],
   "source": [
    "from keras.models import Sequential\n",
    "from keras.layers import Dense, Activation\n",
    "from keras.optimizers import Adam\n",
    "from keras.callbacks import LearningRateScheduler\n",
    "model = Sequential([\n",
    "    Dense(5, input_shape=(2,)),\n",
    "    Activation('sigmoid'),\n",
    "    Dense(1),\n",
    "    Activation('linear'),\n",
    "])\n",
    "model.compile(optimizer=Adam(lr=0.0001), loss='mse')\n",
    "model.summary()"
   ]
  },
  {
   "cell_type": "code",
   "execution_count": 166,
   "metadata": {},
   "outputs": [
    {
     "name": "stdout",
     "output_type": "stream",
     "text": [
      "Epoch 1/50\n",
      "\n",
      "Epoch 00001: LearningRateScheduler setting learning rate to 0.1.\n",
      "100/100 [==============================] - 2s 18ms/step - loss: 0.2280\n",
      "Epoch 2/50\n",
      "\n",
      "Epoch 00002: LearningRateScheduler setting learning rate to 0.095.\n",
      "100/100 [==============================] - 0s 107us/step - loss: 0.1302\n",
      "Epoch 3/50\n",
      "\n",
      "Epoch 00003: LearningRateScheduler setting learning rate to 0.09025.\n",
      "100/100 [==============================] - 0s 105us/step - loss: 0.1253\n",
      "Epoch 4/50\n",
      "\n",
      "Epoch 00004: LearningRateScheduler setting learning rate to 0.0857375.\n",
      "100/100 [==============================] - 0s 99us/step - loss: 0.0916\n",
      "Epoch 5/50\n",
      "\n",
      "Epoch 00005: LearningRateScheduler setting learning rate to 0.081450625.\n",
      "100/100 [==============================] - 0s 102us/step - loss: 0.0808\n",
      "Epoch 6/50\n",
      "\n",
      "Epoch 00006: LearningRateScheduler setting learning rate to 0.07737809374999999.\n",
      "100/100 [==============================] - 0s 100us/step - loss: 0.0502\n",
      "Epoch 7/50\n",
      "\n",
      "Epoch 00007: LearningRateScheduler setting learning rate to 0.07350918906249998.\n",
      "100/100 [==============================] - 0s 100us/step - loss: 0.0454\n",
      "Epoch 8/50\n",
      "\n",
      "Epoch 00008: LearningRateScheduler setting learning rate to 0.06983372960937498.\n",
      "100/100 [==============================] - 0s 92us/step - loss: 0.0237\n",
      "Epoch 9/50\n",
      "\n",
      "Epoch 00009: LearningRateScheduler setting learning rate to 0.06634204312890622.\n",
      "100/100 [==============================] - 0s 93us/step - loss: 0.0339\n",
      "Epoch 10/50\n",
      "\n",
      "Epoch 00010: LearningRateScheduler setting learning rate to 0.0630249409724609.\n",
      "100/100 [==============================] - 0s 102us/step - loss: 0.0232\n",
      "Epoch 11/50\n",
      "\n",
      "Epoch 00011: LearningRateScheduler setting learning rate to 0.05987369392383787.\n",
      "100/100 [==============================] - 0s 92us/step - loss: 0.0237\n",
      "Epoch 12/50\n",
      "\n",
      "Epoch 00012: LearningRateScheduler setting learning rate to 0.05688000922764597.\n",
      "100/100 [==============================] - 0s 97us/step - loss: 0.0235\n",
      "Epoch 13/50\n",
      "\n",
      "Epoch 00013: LearningRateScheduler setting learning rate to 0.05403600876626367.\n",
      "100/100 [==============================] - 0s 101us/step - loss: 0.0240\n",
      "Epoch 14/50\n",
      "\n",
      "Epoch 00014: LearningRateScheduler setting learning rate to 0.051334208327950485.\n",
      "100/100 [==============================] - 0s 97us/step - loss: 0.0201\n",
      "Epoch 15/50\n",
      "\n",
      "Epoch 00015: LearningRateScheduler setting learning rate to 0.04876749791155296.\n",
      "100/100 [==============================] - 0s 105us/step - loss: 0.0213\n",
      "Epoch 16/50\n",
      "\n",
      "Epoch 00016: LearningRateScheduler setting learning rate to 0.046329123015975304.\n",
      "100/100 [==============================] - 0s 94us/step - loss: 0.0210\n",
      "Epoch 17/50\n",
      "\n",
      "Epoch 00017: LearningRateScheduler setting learning rate to 0.04401266686517654.\n",
      "100/100 [==============================] - 0s 100us/step - loss: 0.0204\n",
      "Epoch 18/50\n",
      "\n",
      "Epoch 00018: LearningRateScheduler setting learning rate to 0.04181203352191771.\n",
      "100/100 [==============================] - 0s 93us/step - loss: 0.0191\n",
      "Epoch 19/50\n",
      "\n",
      "Epoch 00019: LearningRateScheduler setting learning rate to 0.039721431845821824.\n",
      "100/100 [==============================] - 0s 101us/step - loss: 0.0187\n",
      "Epoch 20/50\n",
      "\n",
      "Epoch 00020: LearningRateScheduler setting learning rate to 0.03773536025353073.\n",
      "100/100 [==============================] - 0s 98us/step - loss: 0.0195\n",
      "Epoch 21/50\n",
      "\n",
      "Epoch 00021: LearningRateScheduler setting learning rate to 0.03584859224085419.\n",
      "100/100 [==============================] - 0s 98us/step - loss: 0.0193\n",
      "Epoch 22/50\n",
      "\n",
      "Epoch 00022: LearningRateScheduler setting learning rate to 0.03405616262881148.\n",
      "100/100 [==============================] - 0s 111us/step - loss: 0.0185\n",
      "Epoch 23/50\n",
      "\n",
      "Epoch 00023: LearningRateScheduler setting learning rate to 0.0323533544973709.\n",
      "100/100 [==============================] - 0s 85us/step - loss: 0.0185\n",
      "Epoch 24/50\n",
      "\n",
      "Epoch 00024: LearningRateScheduler setting learning rate to 0.03073568677250236.\n",
      "100/100 [==============================] - 0s 106us/step - loss: 0.0185\n",
      "Epoch 25/50\n",
      "\n",
      "Epoch 00025: LearningRateScheduler setting learning rate to 0.02919890243387724.\n",
      "100/100 [==============================] - 0s 101us/step - loss: 0.0188\n",
      "Epoch 26/50\n",
      "\n",
      "Epoch 00026: LearningRateScheduler setting learning rate to 0.027738957312183378.\n",
      "100/100 [==============================] - 0s 103us/step - loss: 0.0186\n",
      "Epoch 27/50\n",
      "\n",
      "Epoch 00027: LearningRateScheduler setting learning rate to 0.026352009446574204.\n",
      "100/100 [==============================] - 0s 91us/step - loss: 0.0194\n",
      "Epoch 28/50\n",
      "\n",
      "Epoch 00028: LearningRateScheduler setting learning rate to 0.025034408974245494.\n",
      "100/100 [==============================] - 0s 98us/step - loss: 0.0185\n",
      "Epoch 29/50\n",
      "\n",
      "Epoch 00029: LearningRateScheduler setting learning rate to 0.023782688525533217.\n",
      "100/100 [==============================] - 0s 100us/step - loss: 0.0190\n",
      "Epoch 30/50\n",
      "\n",
      "Epoch 00030: LearningRateScheduler setting learning rate to 0.022593554099256556.\n",
      "100/100 [==============================] - 0s 87us/step - loss: 0.0195\n",
      "Epoch 31/50\n",
      "\n",
      "Epoch 00031: LearningRateScheduler setting learning rate to 0.02146387639429373.\n",
      "100/100 [==============================] - 0s 95us/step - loss: 0.0191\n",
      "Epoch 32/50\n",
      "\n",
      "Epoch 00032: LearningRateScheduler setting learning rate to 0.02039068257457904.\n",
      "100/100 [==============================] - 0s 92us/step - loss: 0.0184\n",
      "Epoch 33/50\n",
      "\n",
      "Epoch 00033: LearningRateScheduler setting learning rate to 0.019371148445850087.\n",
      "100/100 [==============================] - 0s 92us/step - loss: 0.0184\n",
      "Epoch 34/50\n",
      "\n",
      "Epoch 00034: LearningRateScheduler setting learning rate to 0.018402591023557582.\n",
      "100/100 [==============================] - 0s 89us/step - loss: 0.0186\n",
      "Epoch 35/50\n",
      "\n",
      "Epoch 00035: LearningRateScheduler setting learning rate to 0.017482461472379703.\n",
      "100/100 [==============================] - 0s 91us/step - loss: 0.0182\n",
      "Epoch 36/50\n",
      "\n",
      "Epoch 00036: LearningRateScheduler setting learning rate to 0.016608338398760716.\n",
      "100/100 [==============================] - 0s 94us/step - loss: 0.0192\n",
      "Epoch 37/50\n",
      "\n",
      "Epoch 00037: LearningRateScheduler setting learning rate to 0.01577792147882268.\n",
      "100/100 [==============================] - 0s 92us/step - loss: 0.0204\n",
      "Epoch 38/50\n",
      "\n",
      "Epoch 00038: LearningRateScheduler setting learning rate to 0.014989025404881546.\n",
      "100/100 [==============================] - 0s 91us/step - loss: 0.0191\n",
      "Epoch 39/50\n",
      "\n",
      "Epoch 00039: LearningRateScheduler setting learning rate to 0.014239574134637467.\n",
      "100/100 [==============================] - 0s 84us/step - loss: 0.0186\n",
      "Epoch 40/50\n",
      "\n",
      "Epoch 00040: LearningRateScheduler setting learning rate to 0.013527595427905593.\n",
      "100/100 [==============================] - 0s 80us/step - loss: 0.0190\n",
      "Epoch 41/50\n",
      "\n",
      "Epoch 00041: LearningRateScheduler setting learning rate to 0.012851215656510312.\n",
      "100/100 [==============================] - 0s 83us/step - loss: 0.0187\n",
      "Epoch 42/50\n",
      "\n",
      "Epoch 00042: LearningRateScheduler setting learning rate to 0.012208654873684797.\n",
      "100/100 [==============================] - 0s 87us/step - loss: 0.0182\n",
      "Epoch 43/50\n",
      "\n",
      "Epoch 00043: LearningRateScheduler setting learning rate to 0.011598222130000557.\n",
      "100/100 [==============================] - 0s 81us/step - loss: 0.0183\n",
      "Epoch 44/50\n",
      "\n",
      "Epoch 00044: LearningRateScheduler setting learning rate to 0.011018311023500529.\n",
      "100/100 [==============================] - 0s 85us/step - loss: 0.0183\n",
      "Epoch 45/50\n",
      "\n",
      "Epoch 00045: LearningRateScheduler setting learning rate to 0.010467395472325502.\n",
      "100/100 [==============================] - 0s 89us/step - loss: 0.0181\n",
      "Epoch 46/50\n",
      "\n",
      "Epoch 00046: LearningRateScheduler setting learning rate to 0.009944025698709225.\n",
      "100/100 [==============================] - 0s 82us/step - loss: 0.0184\n",
      "Epoch 47/50\n",
      "\n",
      "Epoch 00047: LearningRateScheduler setting learning rate to 0.009446824413773765.\n",
      "100/100 [==============================] - 0s 83us/step - loss: 0.0183\n",
      "Epoch 48/50\n",
      "\n",
      "Epoch 00048: LearningRateScheduler setting learning rate to 0.008974483193085076.\n",
      "100/100 [==============================] - 0s 86us/step - loss: 0.0182\n",
      "Epoch 49/50\n",
      "\n",
      "Epoch 00049: LearningRateScheduler setting learning rate to 0.00852575903343082.\n",
      "100/100 [==============================] - 0s 83us/step - loss: 0.0181\n",
      "Epoch 50/50\n",
      "\n",
      "Epoch 00050: LearningRateScheduler setting learning rate to 0.00809947108175928.\n"
     ]
    },
    {
     "name": "stdout",
     "output_type": "stream",
     "text": [
      " 32/100 [========>.....................] - ETA: 0s - loss: 0.0147\b\b\b\b\b\b\b\b\b\b\b\b\b\b\b\b\b\b\b\b\b\b\b\b\b\b\b\b\b\b\b\b\b\b\b\b\b\b\b\b\b\b\b\b\b\b\b\b\b\b\b\b\b\b\b\b\b\b\b\b\b\b\b\b\b\r",
      "100/100 [==============================] - 0s 80us/step - loss: 0.0183\n"
     ]
    }
   ],
   "source": [
    "from keras.callbacks import LearningRateScheduler\n",
    "def step_decay_schedule(initial_lr=1e-3, decay_factor=0.75, step_size=10):\n",
    "    '''\n",
    "    Wrapper function to create a LearningRateScheduler with step decay schedule.\n",
    "    '''\n",
    "    def schedule(epoch):\n",
    "        return initial_lr * (decay_factor ** np.floor(epoch/step_size))\n",
    "    return LearningRateScheduler(schedule, verbose=1)\n",
    "\n",
    "lr_sched = step_decay_schedule(initial_lr=1e-1, decay_factor=0.95, step_size=1)\n",
    "\n",
    "history = model.fit(D, T, callbacks=[lr_sched], epochs=50)"
   ]
  },
  {
   "cell_type": "code",
   "execution_count": 124,
   "metadata": {},
   "outputs": [
    {
     "data": {
      "image/png": "[encoded data removed]",
      "text/plain": [
       "<Figure size 432x288 with 1 Axes>"
      ]
     },
     "metadata": {
      "needs_background": "light"
     },
     "output_type": "display_data"
    }
   ],
   "source": [
    "plot_history(history)"
   ]
  },
  {
   "cell_type": "code",
   "execution_count": 91,
   "metadata": {},
   "outputs": [],
   "source": [
    "import matplotlib.pyplot as plt\n",
    "\n",
    "def plot_history(history):\n",
    "    plt.plot(history.history['loss'])\n",
    "    plt.title('Model loss')\n",
    "    plt.ylabel('MSE')\n",
    "    plt.xlabel('Epoch')\n",
    "    plt.grid()\n",
    "    plt.show()\n",
    "\n",
    "    \n",
    "    \n",
    "#     # Plot training & validation accuracy values\n",
    "#     plt.plot(history.history['acc'])\n",
    "#     plt.plot(history.history['val_acc'])\n",
    "#     plt.title('Model accuracy')\n",
    "#     plt.ylabel('Accuracy')\n",
    "#     plt.xlabel('Epoch')\n",
    "#     plt.legend(['Train', 'Test'], loc='upper left')\n",
    "#     plt.show()\n",
    "\n",
    "#     # Plot training & validation loss values\n",
    "#     plt.plot(history.history['loss'])\n",
    "#     plt.plot(history.history['val_loss'])\n",
    "#     plt.title('Model loss')\n",
    "#     plt.ylabel('Loss')\n",
    "#     plt.xlabel('Epoch')\n",
    "#     plt.legend(['Train', 'Test'], loc='upper left')\n",
    "#     plt.show()"
   ]
  },
  {
   "cell_type": "code",
   "execution_count": 59,
   "metadata": {},
   "outputs": [
    {
     "name": "stdout",
     "output_type": "stream",
     "text": [
      "100/100 [==============================] - 0s 1ms/step\n"
     ]
    },
    {
     "data": {
      "text/plain": [
       "0.02239025816321373"
      ]
     },
     "execution_count": 59,
     "metadata": {},
     "output_type": "execute_result"
    }
   ],
   "source": [
    "model.evaluate(D.T, T)"
   ]
  }
 ],
 "metadata": {
  "kernelspec": {
   "display_name": "Python 3",
   "language": "python",
   "name": "python3"
  },
  "language_info": {
   "codemirror_mode": {
    "name": "ipython",
    "version": 3
   },
   "file_extension": ".py",
   "mimetype": "text/x-python",
   "name": "python",
   "nbconvert_exporter": "python",
   "pygments_lexer": "ipython3",
   "version": "3.6.8"
  }
 },
 "nbformat": 4,
 "nbformat_minor": 2
}
